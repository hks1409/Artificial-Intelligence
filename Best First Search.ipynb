{
  "nbformat": 4,
  "nbformat_minor": 0,
  "metadata": {
    "colab": {
      "name": "AI LAB 5.ipynb",
      "provenance": [],
      "authorship_tag": "ABX9TyNu14zo4++ZFNDgaPaWFFy8",
      "include_colab_link": true
    },
    "kernelspec": {
      "name": "python3",
      "display_name": "Python 3"
    },
    "language_info": {
      "name": "python"
    }
  },
  "cells": [
    {
      "cell_type": "markdown",
      "metadata": {
        "id": "view-in-github",
        "colab_type": "text"
      },
      "source": [
        "<a href=\"https://colab.research.google.com/github/hks1409/Artificial-Intelligence/blob/main/Best%20First%20Search.ipynb\" target=\"_parent\"><img src=\"https://colab.research.google.com/assets/colab-badge.svg\" alt=\"Open In Colab\"/></a>"
      ]
    },
    {
      "cell_type": "code",
      "execution_count": null,
      "metadata": {
        "id": "5x2Z4hwpYrmZ",
        "colab": {
          "base_uri": "https://localhost:8080/"
        },
        "outputId": "02445136-c439-4627-de32-34f03741c70f"
      },
      "outputs": [
        {
          "output_type": "stream",
          "name": "stdout",
          "text": [
            "Enter the number of nodes: 14\n",
            "Enter the number of edges: 13\n",
            "Enter the edges along with their weights:\n",
            "0 1 3\n",
            "0 2 6\n",
            "0 3 5\n",
            "1 4 9\n",
            "1 5 8\n",
            "2 6 12\n",
            "2 7 14\n",
            "3 8 7\n",
            "8 9 5\n",
            "8 10 6\n",
            "9 11 1\n",
            "9 12 10\n",
            "9 13 2\n",
            "Enter the Source Node: 0\n",
            "Enter the Target/Destination Node: 9\n",
            "\n",
            "Path: 0 1 3 2 8 9 \n"
          ]
        }
      ],
      "source": [
        "from queue import PriorityQueue\n",
        "\n",
        "def best_first_search(source, target, n):\n",
        "    visited = [0] * n\n",
        "    visited[source] = True\n",
        "    pq = PriorityQueue()\n",
        "    pq.put((0, source))\n",
        "    while pq.empty() == False:\n",
        "        u = pq.get()[1]\n",
        "        print(u, end=\" \") \n",
        "        if u == target:\n",
        "            break\n",
        "\n",
        "        for v, c in graph[u]:\n",
        "            if visited[v] == False:\n",
        "                visited[v] = True\n",
        "                pq.put((c, v))\n",
        "    print()\n",
        "\n",
        "def addedge(x, y, cost):\n",
        "    graph[x].append((y, cost))\n",
        "    graph[y].append((x, cost))\n",
        " \n",
        "v = int(input(\"Enter the number of nodes: \"))\n",
        "graph = [[] for i in range(v)] \n",
        "e = int(input(\"Enter the number of edges: \"))\n",
        "print(\"Enter the edges along with their weights:\")\n",
        "for i in range(e):\n",
        "    x, y, z = list(map(int, input().split()))\n",
        "    addedge(x, y, z)\n",
        "\n",
        "source = int(input(\"Enter the Source Node: \"))\n",
        "target = int(input(\"Enter the Target/Destination Node: \"))\n",
        "print(\"\\nPath: \", end = \"\")\n",
        "best_first_search(source, target, v)"
      ]
    }
  ]
}